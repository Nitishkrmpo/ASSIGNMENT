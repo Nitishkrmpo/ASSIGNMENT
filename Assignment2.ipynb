{
 "cells": [
  {
   "cell_type": "code",
   "execution_count": null,
   "id": "7899c558-50ff-481a-84ae-acc110106b9e",
   "metadata": {},
   "outputs": [],
   "source": []
  },
  {
   "cell_type": "code",
   "execution_count": 1,
   "id": "b873d843-4ad4-419e-9160-bc4e91c73d20",
   "metadata": {},
   "outputs": [],
   "source": [
    "#\"0 Write a basic function to greet students.\n",
    "def greet():\n",
    "    print(\"Hello Student!\")"
   ]
  },
  {
   "cell_type": "code",
   "execution_count": 20,
   "id": "7a3aac6b-2343-464d-bd01-60fcdb9f0398",
   "metadata": {},
   "outputs": [
    {
     "ename": "SyntaxError",
     "evalue": "invalid syntax (483066315.py, line 7)",
     "output_type": "error",
     "traceback": [
      "\u001b[1;36m  Cell \u001b[1;32mIn[20], line 7\u001b[1;36m\u001b[0m\n\u001b[1;33m    print(next(square)) end:\" \"\u001b[0m\n\u001b[1;37m                        ^\u001b[0m\n\u001b[1;31mSyntaxError\u001b[0m\u001b[1;31m:\u001b[0m invalid syntax\n"
     ]
    }
   ],
   "source": [
    "#\u00100 Write a code that generates the squares of numbers from 1 to n using a generator\n",
    "def gen_square(n):\n",
    "    for i in range(1,n+1):\n",
    "        yield i**2\n",
    "square = gen_square(10)    # return iterable object \n",
    "for i in range (1,11):\n",
    "    print(next(square)) \n"
   ]
  },
  {
   "cell_type": "code",
   "execution_count": 33,
   "id": "fff98cbb-7e21-434d-ac5b-c4320d3aa25e",
   "metadata": {},
   "outputs": [
    {
     "name": "stdout",
     "output_type": "stream",
     "text": [
      "1\n",
      "2\n",
      "3\n",
      "4\n",
      "5\n",
      "6\n",
      "7\n",
      "8\n",
      "9\n",
      "11\n",
      "22\n",
      "33\n",
      "44\n",
      "55\n",
      "66\n",
      "77\n",
      "88\n",
      "99\n",
      "101\n",
      "The palindrome ends here:\n"
     ]
    }
   ],
   "source": [
    "# Write a code that generates palindromic numbers up to n using a generator\n",
    "def gen_palindin(n):\n",
    "    for i in range(1,n+1):\n",
    "        reversed_i= str(i)[::-1]\n",
    "        if(str(i)==reversed_i):\n",
    "            yield int(i)\n",
    "palin_number=gen_palindin(101)\n",
    "try:\n",
    "    for i in range(1,101):\n",
    "        print(next(palin_number))\n",
    "except StopIteration:\n",
    "    print(\"The palindrome ends here:\")\n",
    "        "
   ]
  },
  {
   "cell_type": "code",
   "execution_count": 36,
   "id": "c9cde6ed-ba44-4a6b-91ec-6b87e792aa4e",
   "metadata": {},
   "outputs": [
    {
     "name": "stdout",
     "output_type": "stream",
     "text": [
      "2\n",
      "6\n",
      "10\n",
      "14\n",
      "18\n",
      "22\n",
      "26\n",
      "30\n",
      "34\n",
      "38\n",
      "42\n",
      "46\n",
      "50\n",
      "54\n",
      "58\n",
      "62\n",
      "66\n",
      "70\n",
      "74\n",
      "78\n",
      "82\n",
      "86\n",
      "90\n",
      "94\n",
      "98\n",
      "No more even\n"
     ]
    }
   ],
   "source": [
    "#\u00190 Write a code that generates even numbers from 2 to n using a generator0\n",
    "def gen_even(n):\n",
    "    for i in range(n+1):\n",
    "        if i % 2 == 0:\n",
    "            yield i\n",
    "even = gen_even(100)\n",
    "try:\n",
    "    for i in even:\n",
    "        print(next(even))\n",
    "except StopIteration:\n",
    "    print(\"No more even\")\n",
    "\n",
    "\n",
    "    "
   ]
  },
  {
   "cell_type": "code",
   "execution_count": 37,
   "id": "5a8d31fa-244d-4b9e-a251-f500ac72041f",
   "metadata": {},
   "outputs": [
    {
     "name": "stdout",
     "output_type": "stream",
     "text": [
      "4\n",
      "16\n",
      "64\n"
     ]
    }
   ],
   "source": [
    "# Write a code that generates powers of two up to n using a generator\n",
    "def gen_pow_two(n):\n",
    "    for i in range(1,n+1):\n",
    "        if pow(2 , i)< n:\n",
    "            yield pow(2,i)\n",
    "pow_of_two=gen_pow_two(100)\n",
    "try:\n",
    "    for i in pow_of_two:\n",
    "        print(next(pow_of_two))\n",
    "except StopExpection:\n",
    "    print(\"no more power of two\")\n",
    "        \n",
    "        \n",
    "    \n",
    "    "
   ]
  },
  {
   "cell_type": "code",
   "execution_count": 41,
   "id": "cf06b529-5ef2-4929-abbe-f0d87295d322",
   "metadata": {},
   "outputs": [
    {
     "name": "stdout",
     "output_type": "stream",
     "text": [
      "1\n",
      "2\n",
      "3\n",
      "5\n",
      "7\n",
      "11\n",
      "13\n",
      "17\n",
      "19\n",
      "23\n",
      "29\n",
      "31\n",
      "37\n",
      "41\n",
      "43\n",
      "47\n",
      "53\n",
      "59\n",
      "61\n",
      "67\n",
      "71\n",
      "73\n",
      "79\n",
      "83\n",
      "89\n",
      "97\n",
      "no more prime\n"
     ]
    }
   ],
   "source": [
    "#4\u001e",
    "0 Write a code that generates prime numbers up to n using a generator0\n",
    "def gen_prime(n):\n",
    "    for i in range (1,n):\n",
    "        flag = True\n",
    "        for j in range (2, int(i**0.5) + 1) :\n",
    "            if i%j == 0:\n",
    "                flag = False\n",
    "                break\n",
    "        if flag==True:\n",
    "            yield i\n",
    "\n",
    "it_prime = gen_prime(100)\n",
    "try:\n",
    "    for i in range(1,100):\n",
    "        print(next(it_prime))\n",
    "except StopIteration:\n",
    "    print(\"no more prime\")\n",
    "    \n",
    "                \n",
    "                \n",
    "            \n",
    "                "
   ]
  },
  {
   "cell_type": "code",
   "execution_count": null,
   "id": "cd1a648c-b69d-465c-9d4a-6a0041aa0334",
   "metadata": {},
   "outputs": [],
   "source": []
  },
  {
   "cell_type": "code",
   "execution_count": null,
   "id": "5bd19e39-f684-4dea-b893-6550e7560521",
   "metadata": {},
   "outputs": [],
   "source": []
  },
  {
   "cell_type": "code",
   "execution_count": null,
   "id": "6c977f73-9f51-436a-a061-a04043d9bbb7",
   "metadata": {},
   "outputs": [],
   "source": []
  },
  {
   "cell_type": "code",
   "execution_count": null,
   "id": "d044a328-bff4-46df-9215-fe6a5da4d3a2",
   "metadata": {},
   "outputs": [],
   "source": []
  },
  {
   "cell_type": "code",
   "execution_count": null,
   "id": "8b6a9a7d-41fb-429b-a2e8-1f9e37ee2b88",
   "metadata": {},
   "outputs": [],
   "source": []
  }
 ],
 "metadata": {
  "kernelspec": {
   "display_name": "Python 3 (ipykernel)",
   "language": "python",
   "name": "python3"
  },
  "language_info": {
   "codemirror_mode": {
    "name": "ipython",
    "version": 3
   },
   "file_extension": ".py",
   "mimetype": "text/x-python",
   "name": "python",
   "nbconvert_exporter": "python",
   "pygments_lexer": "ipython3",
   "version": "3.12.4"
  }
 },
 "nbformat": 4,
 "nbformat_minor": 5
}
