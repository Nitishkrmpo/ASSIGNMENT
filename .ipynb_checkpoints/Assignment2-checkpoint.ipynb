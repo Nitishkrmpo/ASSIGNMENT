{
 "cells": [
  {
   "cell_type": "code",
   "execution_count": null,
   "id": "7899c558-50ff-481a-84ae-acc110106b9e",
   "metadata": {},
   "outputs": [],
   "source": []
  },
  {
   "cell_type": "code",
   "execution_count": 1,
   "id": "b873d843-4ad4-419e-9160-bc4e91c73d20",
   "metadata": {},
   "outputs": [],
   "source": [
    "#\"0 Write a basic function to greet students.\n",
    "def greet():\n",
    "    print(\"Hello Student!\")"
   ]
  },
  {
   "cell_type": "code",
   "execution_count": 20,
   "id": "7a3aac6b-2343-464d-bd01-60fcdb9f0398",
   "metadata": {},
   "outputs": [
    {
     "ename": "SyntaxError",
     "evalue": "invalid syntax (483066315.py, line 7)",
     "output_type": "error",
     "traceback": [
      "\u001b[1;36m  Cell \u001b[1;32mIn[20], line 7\u001b[1;36m\u001b[0m\n\u001b[1;33m    print(next(square)) end:\" \"\u001b[0m\n\u001b[1;37m                        ^\u001b[0m\n\u001b[1;31mSyntaxError\u001b[0m\u001b[1;31m:\u001b[0m invalid syntax\n"
     ]
    }
   ],
   "source": [
    "#\u00100 Write a code that generates the squares of numbers from 1 to n using a generator\n",
    "def gen_square(n):\n",
    "    for i in range(1,n+1):\n",
    "        yield i**2\n",
    "square = gen_square(10)    # return iterable object \n",
    "for i in range (1,11):\n",
    "    print(next(square)) \n"
   ]
  },
  {
   "cell_type": "code",
   "execution_count": 33,
   "id": "fff98cbb-7e21-434d-ac5b-c4320d3aa25e",
   "metadata": {},
   "outputs": [
    {
     "name": "stdout",
     "output_type": "stream",
     "text": [
      "1\n",
      "2\n",
      "3\n",
      "4\n",
      "5\n",
      "6\n",
      "7\n",
      "8\n",
      "9\n",
      "11\n",
      "22\n",
      "33\n",
      "44\n",
      "55\n",
      "66\n",
      "77\n",
      "88\n",
      "99\n",
      "101\n",
      "The palindrome ends here:\n"
     ]
    }
   ],
   "source": [
    "# Write a code that generates palindromic numbers up to n using a generator\n",
    "def gen_palindin(n):\n",
    "    for i in range(1,n+1):\n",
    "        reversed_i= str(i)[::-1]\n",
    "        if(str(i)==reversed_i):\n",
    "            yield int(i)\n",
    "palin_number=gen_palindin(101)\n",
    "try:\n",
    "    for i in range(1,101):\n",
    "        print(next(palin_number))\n",
    "except StopIteration:\n",
    "    print(\"The palindrome ends here:\")\n",
    "        "
   ]
  },
  {
   "cell_type": "code",
   "execution_count": 36,
   "id": "c9cde6ed-ba44-4a6b-91ec-6b87e792aa4e",
   "metadata": {},
   "outputs": [
    {
     "name": "stdout",
     "output_type": "stream",
     "text": [
      "2\n",
      "6\n",
      "10\n",
      "14\n",
      "18\n",
      "22\n",
      "26\n",
      "30\n",
      "34\n",
      "38\n",
      "42\n",
      "46\n",
      "50\n",
      "54\n",
      "58\n",
      "62\n",
      "66\n",
      "70\n",
      "74\n",
      "78\n",
      "82\n",
      "86\n",
      "90\n",
      "94\n",
      "98\n",
      "No more even\n"
     ]
    }
   ],
   "source": [
    "#\u00190 Write a code that generates even numbers from 2 to n using a generator0\n",
    "def gen_even(n):\n",
    "    for i in range(n+1):\n",
    "        if i % 2 == 0:\n",
    "            yield i\n",
    "even = gen_even(100)\n",
    "try:\n",
    "    for i in even:\n",
    "        print(next(even))\n",
    "except StopIteration:\n",
    "    print(\"No more even\")\n",
    "\n",
    "\n",
    "    "
   ]
  },
  {
   "cell_type": "code",
   "execution_count": 37,
   "id": "5a8d31fa-244d-4b9e-a251-f500ac72041f",
   "metadata": {},
   "outputs": [
    {
     "name": "stdout",
     "output_type": "stream",
     "text": [
      "4\n",
      "16\n",
      "64\n"
     ]
    }
   ],
   "source": [
    "# Write a code that generates powers of two up to n using a generator\n",
    "def gen_pow_two(n):\n",
    "    for i in range(1,n+1):\n",
    "        if pow(2 , i)< n:\n",
    "            yield pow(2,i)\n",
    "pow_of_two=gen_pow_two(100)\n",
    "try:\n",
    "    for i in pow_of_two:\n",
    "        print(next(pow_of_two))\n",
    "except StopExpection:\n",
    "    print(\"no more power of two\")\n",
    "        \n",
    "        \n",
    "    \n",
    "    "
   ]
  },
  {
   "cell_type": "code",
   "execution_count": 41,
   "id": "cf06b529-5ef2-4929-abbe-f0d87295d322",
   "metadata": {},
   "outputs": [
    {
     "name": "stdout",
     "output_type": "stream",
     "text": [
      "1\n",
      "2\n",
      "3\n",
      "5\n",
      "7\n",
      "11\n",
      "13\n",
      "17\n",
      "19\n",
      "23\n",
      "29\n",
      "31\n",
      "37\n",
      "41\n",
      "43\n",
      "47\n",
      "53\n",
      "59\n",
      "61\n",
      "67\n",
      "71\n",
      "73\n",
      "79\n",
      "83\n",
      "89\n",
      "97\n",
      "no more prime\n"
     ]
    }
   ],
   "source": [
    "#4\u001e",
    "0 Write a code that generates prime numbers up to n using a generator0\n",
    "def gen_prime(n):\n",
    "    for i in range (1,n):\n",
    "        flag = True\n",
    "        for j in range (2, int(i**0.5) + 1) :\n",
    "            if i%j == 0:\n",
    "                flag = False\n",
    "                break\n",
    "        if flag==True:\n",
    "            yield i\n",
    "\n",
    "it_prime = gen_prime(100)\n",
    "try:\n",
    "    for i in range(1,100):\n",
    "        print(next(it_prime))\n",
    "except StopIteration:\n",
    "    print(\"no more prime\")\n",
    "    \n",
    "                \n",
    "                \n",
    "            \n",
    "                "
   ]
  },
  {
   "cell_type": "code",
   "execution_count": 4,
   "id": "cd1a648c-b69d-465c-9d4a-6a0041aa0334",
   "metadata": {},
   "outputs": [
    {
     "name": "stdout",
     "output_type": "stream",
     "text": [
      "7\n"
     ]
    }
   ],
   "source": [
    "#5  Write a code that uses a lambda function to calculate the sum of two numbers0\n",
    "lambda_sum = lambda x , y : x+y\n",
    "print(lambda_sum(2,5))"
   ]
  },
  {
   "cell_type": "code",
   "execution_count": 6,
   "id": "5bd19e39-f684-4dea-b893-6550e7560521",
   "metadata": {},
   "outputs": [
    {
     "name": "stdout",
     "output_type": "stream",
     "text": [
      "9\n"
     ]
    }
   ],
   "source": [
    "#4\"0 Write a code that uses a lambda function to calculate the square of a given number0\n",
    "lambda_square = lambda x : x*x\n",
    "print(lambda_square(3))"
   ]
  },
  {
   "cell_type": "code",
   "execution_count": 11,
   "id": "6c977f73-9f51-436a-a061-a04043d9bbb7",
   "metadata": {},
   "outputs": [
    {
     "name": "stdout",
     "output_type": "stream",
     "text": [
      "Odd\n"
     ]
    }
   ],
   "source": [
    "#4\u00110 Write a code that uses a lambda function to check whether a given number is even or odd0\n",
    "lambda_odd_eve=lambda x : x % 2 \n",
    "if lambda_odd_eve(5):\n",
    "    print(\"Odd\")\n",
    "else:\n",
    "    print(\"Even\")"
   ]
  },
  {
   "cell_type": "code",
   "execution_count": 14,
   "id": "d044a328-bff4-46df-9215-fe6a5da4d3a2",
   "metadata": {},
   "outputs": [
    {
     "data": {
      "text/plain": [
       "'HelloWorld'"
      ]
     },
     "execution_count": 14,
     "metadata": {},
     "output_type": "execute_result"
    }
   ],
   "source": [
    "#Write a code that uses a lambda function to concatenate two strings.\n",
    "lambda_combine = lambda x , y : x+y\n",
    "lambda_combine(\"Hello\",\"World\")"
   ]
  },
  {
   "cell_type": "code",
   "execution_count": 13,
   "id": "8b6a9a7d-41fb-429b-a2e8-1f9e37ee2b88",
   "metadata": {},
   "outputs": [
    {
     "name": "stdin",
     "output_type": "stream",
     "text": [
      "Enter number1 3\n",
      "Enter number2 2\n",
      "Enter number3 6\n"
     ]
    },
    {
     "name": "stdout",
     "output_type": "stream",
     "text": [
      "6\n"
     ]
    }
   ],
   "source": [
    "# Write a code that uses a lambda function to find the maximum of three given numbers0\n",
    "\n",
    "def max(a,b):\n",
    "    if a>b:\n",
    "        return a\n",
    "    else:\n",
    "        return b\n",
    "max_in_three= lambda a,b,c: max(a,max(b,c))\n",
    "\n",
    "a=input(\"Enter number1\")\n",
    "b=input(\"Enter number2\")\n",
    "c = input(\"Enter number3\")\n",
    "print(max_in_three(a,b,c))\n",
    "\n"
   ]
  },
  {
   "cell_type": "code",
   "execution_count": 21,
   "id": "be78440d-6dd3-410c-869a-fee585f9230b",
   "metadata": {},
   "outputs": [
    {
     "name": "stdout",
     "output_type": "stream",
     "text": [
      "4\n",
      "16\n",
      "36\n",
      "64\n",
      "100\n"
     ]
    }
   ],
   "source": [
    "#4&0 Write a code that generates the squares of even numbers from a given list\n",
    "def sq_of_list(n):\n",
    "    for i in n:\n",
    "        if i % 2 ==0:\n",
    "            print(i**2)\n",
    "n = [1,2,3,4,5,6,7,8,10]   \n",
    "sq_of_list(n)\n",
    "\n",
    "\n"
   ]
  },
  {
   "cell_type": "code",
   "execution_count": 22,
   "id": "221912a0-3397-4bb1-bb8a-ecc3c4ebd79f",
   "metadata": {},
   "outputs": [],
   "source": [
    "#Write a code that calculates the product of positive numbers from a given list\n",
    "def product_of_posit(n):\n",
    "    product=1\n",
    "    for i in n:\n",
    "        if i > 0:\n",
    "            product=product * i\n",
    "    print(product)\n",
    "lists=[-1,2,1,-3,-4,8]"
   ]
  },
  {
   "cell_type": "code",
   "execution_count": 26,
   "id": "c7b8800f-93c9-46d9-aa44-e44a0771d7f1",
   "metadata": {},
   "outputs": [
    {
     "name": "stdout",
     "output_type": "stream",
     "text": [
      "[1, 2, 9, 4, 25, 6, 49]\n"
     ]
    }
   ],
   "source": [
    "#Write a code that doubles the values of odd numbers from a given list0\n",
    "def double_value(n):\n",
    "    for i in range(len(n)):\n",
    "        if n[i] % 2==1:\n",
    "            n[i]=n[i]*n[i]\n",
    "    return n\n",
    "n=double_value([1,2,3,4,5,6,7])\n",
    "print(n)\n",
    "\n"
   ]
  },
  {
   "cell_type": "code",
   "execution_count": 32,
   "id": "982dc6d6-0a45-4f97-aa3d-30e0dbd5db58",
   "metadata": {},
   "outputs": [
    {
     "name": "stdout",
     "output_type": "stream",
     "text": [
      "784\n"
     ]
    }
   ],
   "source": [
    "# Write a code that calculates the sum of cubes of numbers from a given list0\n",
    "list1 = [1,2,3,4,5,6,7]\n",
    "def sum_of_cubes(list1):\n",
    "    sum=0\n",
    "    for i in range(len(list1)):\n",
    "        sum = sum + list1[i]*list1[i]*list1[i]\n",
    "    print(sum)\n",
    "sum_of_cubes(list1)"
   ]
  },
  {
   "cell_type": "code",
   "execution_count": 14,
   "id": "f961ecf8-871c-4317-b4e5-df8cd0c72a54",
   "metadata": {},
   "outputs": [
    {
     "ename": "SyntaxError",
     "evalue": "invalid syntax (1164104308.py, line 6)",
     "output_type": "error",
     "traceback": [
      "\u001b[1;36m  Cell \u001b[1;32mIn[14], line 6\u001b[1;36m\u001b[0m\n\u001b[1;33m    bool flag = True\u001b[0m\n\u001b[1;37m         ^\u001b[0m\n\u001b[1;31mSyntaxError\u001b[0m\u001b[1;31m:\u001b[0m invalid syntax\n"
     ]
    }
   ],
   "source": [
    "#Write a code that filters out prime numbers from a given list\n",
    "def is_prime(num):\n",
    "    if num <= 1:\n",
    "        return False\n",
    "    for i in range(2, int(num**0.5) + 1):\n",
    "        if num % i == 0:\n",
    "            return False\n",
    "    return True\n",
    "\n",
    "def filter_prime(list1):\n",
    "    list2 = [num for num in list1 if is_prime(num)]\n",
    "    return list2\n",
    "\n",
    "list1 = [1, 2, 3, 4, 5, 6]\n",
    "list2 = filter_prime(list1)\n",
    "print(list2)\n"
   ]
  },
  {
   "cell_type": "code",
   "execution_count": 3,
   "id": "da7f5171-6865-4e41-8f89-83cddb285a99",
   "metadata": {},
   "outputs": [
    {
     "data": {
      "text/plain": [
       "8"
      ]
     },
     "execution_count": 3,
     "metadata": {},
     "output_type": "execute_result"
    }
   ],
   "source": [
    "#\"\"0 Write a code that uses a lambda function to calculate the sum of two numbers\n",
    "lam_sum = lambda x , y : x+y\n",
    "lam_sum(5,3)\n",
    "\n",
    "\n"
   ]
  },
  {
   "cell_type": "code",
   "execution_count": 4,
   "id": "ff46c7ac-78b6-4eb0-9a70-5911c8ac419c",
   "metadata": {},
   "outputs": [
    {
     "name": "stdout",
     "output_type": "stream",
     "text": [
      "25\n"
     ]
    }
   ],
   "source": [
    "#\"\u00110 Write a code that uses a lambda function to calculate the square of a given number0\n",
    "lam_square = lambda x : x*x;\n",
    "\n",
    "print(lam_square(5))\n",
    "\n",
    "\n",
    "\n"
   ]
  },
  {
   "cell_type": "code",
   "execution_count": 7,
   "id": "8b3dd8c4-0556-41fa-a2f5-21d2afc6dee9",
   "metadata": {},
   "outputs": [
    {
     "name": "stdout",
     "output_type": "stream",
     "text": [
      "Odd\n",
      "\n"
     ]
    }
   ],
   "source": [
    "#\"-0 Write a code that uses a lambda function to check whether a given number is even or odd0\n",
    "number_even=lambda x : x%2==1\n",
    "n=number_even(3)\n",
    "if(n==0):\n",
    "    print(\"Even\\n\")\n",
    "else:\n",
    "    print(\"Odd\\n\")\n",
    "\n",
    "\n",
    "\n",
    "\n",
    "\n",
    "\n",
    "\n",
    "\n",
    "\n",
    "\n",
    "\n",
    "\n"
   ]
  },
  {
   "cell_type": "code",
   "execution_count": 9,
   "id": "41665fd4-4b0b-4c06-82db-516e831eb51b",
   "metadata": {},
   "outputs": [
    {
     "name": "stdin",
     "output_type": "stream",
     "text": [
      "Enter the String1 Hello\n",
      "Enter the String2 World \n"
     ]
    },
    {
     "data": {
      "text/plain": [
       "'Hello World '"
      ]
     },
     "execution_count": 9,
     "metadata": {},
     "output_type": "execute_result"
    }
   ],
   "source": [
    "#\"!0 Write a code that uses a lambda function to concatenate two strings0\n",
    "\n",
    "concat_string= lambda str1 , str2 : str1+\" \"+str2\n",
    "s = input(\"Enter the String1\")\n",
    "p=input(\"Enter the String2\")\n",
    "\n",
    "concat_string(s,p)\n",
    "\n"
   ]
  },
  {
   "cell_type": "code",
   "execution_count": 12,
   "id": "5245805c-f1b4-4edf-b5b1-b36e1ca7f024",
   "metadata": {},
   "outputs": [
    {
     "name": "stdin",
     "output_type": "stream",
     "text": [
      "Enter number1 3\n",
      "Enter number2 5\n",
      "Enter number3 2\n"
     ]
    },
    {
     "name": "stdout",
     "output_type": "stream",
     "text": [
      "5\n"
     ]
    }
   ],
   "source": [
    "#\"\u00100 Write a code that uses a lambda function to find the maximum of three given numbers0\n",
    "def max(a,b):\n",
    "    if a>b:\n",
    "        return a\n",
    "    else:\n",
    "        return b\n",
    "max_in_three= lambda a,b,c: max(a,max(b,c))\n",
    "\n",
    "a=input(\"Enter number1\")\n",
    "b=input(\"Enter number2\")\n",
    "c = input(\"Enter number3\")\n",
    "print(max_in_three(a,b,c))\n",
    "\n",
    "\n",
    "\n"
   ]
  },
  {
   "cell_type": "code",
   "execution_count": 7,
   "id": "6e441e9c-2b3d-4dda-bcb5-eb6131b3d519",
   "metadata": {},
   "outputs": [
    {
     "name": "stdout",
     "output_type": "stream",
     "text": [
      "Inside the Dog Class\n",
      "woof!\n"
     ]
    }
   ],
   "source": [
    "#\u001aK\u001c",
    " Define a parent class Animal with a method make_sound that prints \"Generic animal sound\". Create a \n",
    "#child class Dog inheriting from Animal with a method make_sound that prints \"Woof!\"\u001c",
    "\n",
    "class Animal:\n",
    "    def make_sound(self):\n",
    "        print(\"woof!\")\n",
    "    def __init__(self):\n",
    "        print(\"Inside the Animal class\")\n",
    "class Dog(Animal):\n",
    "    \n",
    "    def __init__(self):\n",
    "        print(\"Inside the Dog Class\")\n",
    "labra = Dog()\n",
    "labra.make_sound()\n",
    "\n"
   ]
  },
  {
   "cell_type": "code",
   "execution_count": 10,
   "id": "ea941cf4-aeaa-4b1e-9809-d758d177dbe5",
   "metadata": {},
   "outputs": [
    {
     "name": "stdout",
     "output_type": "stream",
     "text": [
      "Dog runs\n"
     ]
    }
   ],
   "source": [
    "#\u001a\u001a\u001c",
    " Define a method move in the Animal class that prints \"Animal moves\". Override the move method in the \n",
    "#Dog class to print \"Dog runs.8\n",
    "class Animal:\n",
    "    def move(self):\n",
    "        print(\"Inside the Animal class\")\n",
    "\n",
    "class Dog(Animal):\n",
    "    def move(self):\n",
    "        print(\"Dog runs\")\n",
    "state = Dog()\n",
    "state.move()\n"
   ]
  },
  {
   "cell_type": "code",
   "execution_count": 21,
   "id": "2f24cfa7-c5ea-455e-b32f-becbff6f654d",
   "metadata": {},
   "outputs": [
    {
     "name": "stdout",
     "output_type": "stream",
     "text": [
      "Giving Birth to live young ,inside Mammal Class! \n",
      "Barks!\n"
     ]
    }
   ],
   "source": [
    "#\u001aH\u001c",
    " Create a class Mammal with a method reproduce that prints \"Giving birth to live young.\" Create a class \n",
    "#DogMammal inheriting from both Dog and Mammal\u001c",
    "\n",
    "\n",
    "class Mammal:\n",
    "    def reproduce(self):\n",
    "        print(\"Giving Birth to live young ,inside Mammal Class! \")\n",
    "class Dog:\n",
    "    def sound(self):\n",
    "        print(\"Barks!\")\n",
    "        \n",
    "class DogMammal(Mammal, Dog):\n",
    "    #pass to not to give nside the method\n",
    "    def useless(self):\n",
    "        print()\n",
    "mam_do=DogMammal()\n",
    "mam_do.reproduce()\n",
    "mam_do.sound()"
   ]
  },
  {
   "cell_type": "code",
   "execution_count": 23,
   "id": "fbbf84e6-f472-4a75-ab2f-643699bb0122",
   "metadata": {},
   "outputs": [
    {
     "name": "stdout",
     "output_type": "stream",
     "text": [
      "Barks!\n"
     ]
    }
   ],
   "source": [
    "#\u001a\u0017\u001c",
    " Create a class GermanShepherd inheriting from Dog and override the make_sound method to print \n",
    "#\"Bark!8\n",
    "class Dog:\n",
    "    def make_sound(self):\n",
    "        print(\"Inside the Dog class\")\n",
    "\n",
    "class German_Shepherd(Dog):\n",
    "    def make_sound(self):\n",
    "        print(\"Barks!\")\n",
    "\n",
    "dog1 = German_Shepherd()\n",
    "dog1.make_sound()\n",
    "\n",
    "\n"
   ]
  },
  {
   "cell_type": "code",
   "execution_count": 25,
   "id": "133de6f8-9582-42fd-989b-7084bda8db5d",
   "metadata": {},
   "outputs": [
    {
     "name": "stdout",
     "output_type": "stream",
     "text": [
      "1\n",
      "2\n",
      "Two parameter inside the Animal class Constructor\n",
      "3\n",
      "4\n",
      "Four  parameter inside the Dog class Constructor  \n"
     ]
    }
   ],
   "source": [
    "#\u001a\u0015\u001c",
    " Define constructors in both the Animal and Dog classes with different initialization parameters\n",
    "\n",
    "class Animal:\n",
    "    def __init__(self , a ,b):\n",
    "        print(a)\n",
    "        print(b)\n",
    "        print(\"Two parameter inside the Animal class Constructor\")\n",
    "\n",
    "class Dog(Animal):\n",
    "    def __init__(self, d , e, f ,g  ):\n",
    "        Animal(d,e)\n",
    "        print(f)\n",
    "        print(g)\n",
    "        print(\"Four  parameter inside the Dog class Constructor  \")\n",
    "\n",
    "labra = Dog(1,2,3,4)\n"
   ]
  },
  {
   "cell_type": "code",
   "execution_count": null,
   "id": "f6f68914-c006-4544-9051-50497796c2a5",
   "metadata": {},
   "outputs": [],
   "source": [
    "H\u001e",
    "\u001c",
    " Implement a class BankAccount with a private balance attribute. Include methods to deposit, withdraw, \n",
    "and check the balance\u001c",
    "\n",
    "\u0017D\u001c",
    " Develop a Person class with private attributes name and email, and methods to set and get the email\u001c"
   ]
  },
  {
   "cell_type": "code",
   "execution_count": null,
   "id": "d51a356a-91f5-4614-9cd1-fc8448d13c97",
   "metadata": {},
   "outputs": [],
   "source": [
    "H\u001e",
    "\u001c",
    " Implement a class BankAccount with a private balance attribute. Include methods to deposit, withdraw, \n",
    "and check the balance\u001c",
    "\n",
    "\u0017D\u001c",
    " Develop a Person class with private attributes name and email, and methods to set and get the email\u001c",
    "\n",
    "\u0017\"\u001c",
    " Why is encapsulation considered a pillar of object-oriented programming (OOP)?\n",
    "23/ Create a decorator in Python that adds functionality to a simple function by printing a message before \n",
    "and after the function execution/\n",
    "2\u0011/ Modify the decorator to accept arguments and print the function name along with the message/\n",
    "2&/ Create two decorators, and apply them to a single function. Ensure that they execute in the order they are \n",
    "applied/\n",
    "22/ Modify the decorator to accept and pass function arguments to the wrapped function/\n",
    "2\u001a/ Create a decorator that preserves the metadata of the original function/\n",
    "24/ Create a Python class `Calculator` with a static method `add` that takes in two numbers and returns their \n",
    "sum/\n",
    "2\u001d",
    "/ Create a Python class `Employee` with a class `method get_employee_count` that returns the total \n",
    "number of employees created/\n",
    "2-/ Create a Python class `StringFormatter` with a static method `reverse_string` that takes a string as input \n",
    "and returns its reverse/\n",
    "\u001a;/ Create a Python class `Circle` with a class method `calculate_area` that calculates the area of a circle \n",
    "given its radius/\n",
    "\u001a\u000e/ Create a Python class `TemperatureConverter` with a static method `celsius_to_fahrenheit` that converts \n",
    "Celsius to Fahrenheit"
   ]
  }
 ],
 "metadata": {
  "kernelspec": {
   "display_name": "Python 3 (ipykernel)",
   "language": "python",
   "name": "python3"
  },
  "language_info": {
   "codemirror_mode": {
    "name": "ipython",
    "version": 3
   },
   "file_extension": ".py",
   "mimetype": "text/x-python",
   "name": "python",
   "nbconvert_exporter": "python",
   "pygments_lexer": "ipython3",
   "version": "3.12.4"
  }
 },
 "nbformat": 4,
 "nbformat_minor": 5
}
