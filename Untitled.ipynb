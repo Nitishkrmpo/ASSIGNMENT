{
 "cells": [
  {
   "cell_type": "code",
   "execution_count": 1,
   "id": "0a75876d-d6f0-4308-a98e-1ffde6f46690",
   "metadata": {},
   "outputs": [
    {
     "ename": "ModuleNotFoundError",
     "evalue": "No module named 'scapy'",
     "output_type": "error",
     "traceback": [
      "\u001b[1;31m---------------------------------------------------------------------------\u001b[0m",
      "\u001b[1;31mModuleNotFoundError\u001b[0m                       Traceback (most recent call last)",
      "Cell \u001b[1;32mIn[1], line 1\u001b[0m\n\u001b[1;32m----> 1\u001b[0m \u001b[38;5;28;01mimport\u001b[39;00m \u001b[38;5;21;01mscapy\u001b[39;00m\u001b[38;5;21;01m.\u001b[39;00m\u001b[38;5;21;01mall\u001b[39;00m \u001b[38;5;28;01mas\u001b[39;00m \u001b[38;5;21;01mscapy\u001b[39;00m\n\u001b[0;32m      3\u001b[0m \u001b[38;5;28;01mdef\u001b[39;00m \u001b[38;5;21mpacket_sniffer\u001b[39m(packet):\n\u001b[0;32m      4\u001b[0m     \u001b[38;5;28;01mif\u001b[39;00m packet\u001b[38;5;241m.\u001b[39mhaslayer(scapy\u001b[38;5;241m.\u001b[39mIP):\n",
      "\u001b[1;31mModuleNotFoundError\u001b[0m: No module named 'scapy'"
     ]
    }
   ],
   "source": [
    "import scapy.all as scapy\n",
    "\n",
    "def packet_sniffer(packet):\n",
    "    if packet.haslayer(scapy.IP):\n",
    "        source_ip = packet[scapy.IP].src\n",
    "        destination_ip = packet[scapy.IP].dst\n",
    "        protocol = packet[scapy.IP].proto\n",
    "\n",
    "        print(f\"Source IP: {source_ip}  Destination IP: {destination_ip}  Protocol: {protocol}\")\n",
    "\n",
    "        if packet.haslayer(scapy.Raw):\n",
    "            payload = packet[scapy.Raw].load\n",
    "            print(f\"Payload: {payload}\")\n",
    "\n",
    "def main(interface):\n",
    "    scapy.sniff(iface=interface, prn=packet_sniffer, store=False)\n",
    "\n",
    "if _name_ == \"_main_\":\n",
    "    interface = input(\"Enter the interface to sniff (e.g., eth0): \")\n",
    "    main(interface)"
   ]
  },
  {
   "cell_type": "code",
   "execution_count": null,
   "id": "a04e79f9-51b8-4ba2-bc63-3b837b5d1a34",
   "metadata": {},
   "outputs": [],
   "source": []
  }
 ],
 "metadata": {
  "kernelspec": {
   "display_name": "Python 3 (ipykernel)",
   "language": "python",
   "name": "python3"
  },
  "language_info": {
   "codemirror_mode": {
    "name": "ipython",
    "version": 3
   },
   "file_extension": ".py",
   "mimetype": "text/x-python",
   "name": "python",
   "nbconvert_exporter": "python",
   "pygments_lexer": "ipython3",
   "version": "3.12.4"
  }
 },
 "nbformat": 4,
 "nbformat_minor": 5
}
