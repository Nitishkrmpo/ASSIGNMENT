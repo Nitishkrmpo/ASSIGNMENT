{
 "cells": [
  {
   "cell_type": "code",
   "execution_count": null,
   "id": "d9e0948d-6652-46ec-96a4-f7232bcbbe6d",
   "metadata": {},
   "outputs": [],
   "source": [
    "s = input(\"Enter string: \")\n",
    "s=s[::-1]\n",
    "print(s)"
   ]
  },
  {
   "cell_type": "code",
   "execution_count": null,
   "id": "48f425dd-9da5-4347-bd79-e38e9cebcfa6",
   "metadata": {},
   "outputs": [],
   "source": [
    "a = input(\"Enter string:\")\n",
    "b=\"aeiouAEIOU\"\n",
    "count =0\n",
    "for i in a:\n",
    "    if i in b:\n",
    "        count +=1\n",
    "print(count)"
   ]
  },
  {
   "cell_type": "code",
   "execution_count": null,
   "id": "a61881c1-dd09-4e80-a51e-5b6321ba04e4",
   "metadata": {},
   "outputs": [],
   "source": [
    "#Write a code to check if a given string is a palindrome or not\u0012\n",
    "s = input(\"Enter string: \")\n",
    "n=s[::-1]\n",
    "if(s==n):\n",
    "    print(\"palindrome\")\n",
    "else:\n",
    "    print(\"not palindrome\")\n",
    "    \n"
   ]
  },
  {
   "cell_type": "code",
   "execution_count": null,
   "id": "c40dcc0c-3bb6-4973-9098-1f2d0e7b81e8",
   "metadata": {},
   "outputs": [],
   "source": [
    "#Write a code to check if two given strings are anagrams of each other\u0012\n",
    "s1 = input(\"Enter string1: \")\n",
    "s2 = input(\"Enter string2: \")\n",
    "if sorted(s1)==sorted(s2):\n",
    "    print(\"anagram\")\n",
    "else:\n",
    "    print(\"not   anagram\")"
   ]
  },
  {
   "cell_type": "code",
   "execution_count": null,
   "id": "e20676b2-14f8-4a58-ae46-c63d525871e1",
   "metadata": {},
   "outputs": [],
   "source": [
    "# Write a code to find all occurrences of a given substring within another string\u0012\n",
    "  \n",
    "def find_substring_occurrences(s1, s2):\n",
    "    occurrences = []\n",
    "    index = s1.find(s2)\n",
    "    while index != -1:\n",
    "        occurrences.append(index)\n",
    "        index = s1.find(s2, index + 1)\n",
    "    return occurrences\n",
    "\n",
    "# Example usage\n",
    "s1 = input(\"Enter the main string: \")\n",
    "s2 = input(\"Enter the substring to find: \")\n",
    "occurrences = find_substring_occurrences(s1, s2)\n",
    "print(\"Occurrences:\", occurrences)\n"
   ]
  },
  {
   "cell_type": "code",
   "execution_count": null,
   "id": "0e117dd9-f0b7-43e1-9ebb-541ef9b10b7f",
   "metadata": {},
   "outputs": [],
   "source": [
    "#Write a code to perform basic string compression using the counts of repeated characters\u0012\n",
    "\n",
    "def compress_string(s):\n",
    "    if not s:\n",
    "        return \"\"\n",
    "    \n",
    "    compressed = []\n",
    "    count = 1\n",
    "    for i in range(1, len(s)):\n",
    "        if s[i] == s[i - 1]:\n",
    "            count += 1\n",
    "        else:\n",
    "            compressed.append(s[i - 1] + str(count))\n",
    "            count = 1\n",
    "    compressed.append(s[-1] + str(count))  # Add the last character and its count\n",
    "    \n",
    "    compressed_string = ''.join(compressed)\n",
    "    return compressed_string\n",
    "\n",
    "# Example usage\n",
    "input_string = input(\"Enter the string to compress: \")\n",
    "compressed_string = compress_string(input_string)\n",
    "print(\"Compressed string:\", compressed_string)\n",
    "\n"
   ]
  },
  {
   "cell_type": "code",
   "execution_count": null,
   "id": "c27329af-5b2a-4c5a-a6b5-282c040baaf4",
   "metadata": {},
   "outputs": [],
   "source": [
    "#Write a code to determine if a string has all unique characters\u0012\n",
    "unique = {}\n",
    "element= []\n",
    "s=intput(\"Enter string :\")\n",
    "for i in s:\n",
    "    unique.add(i)\n",
    "    element.append(i)\n",
    "if element == list(unique):\n",
    "    print();\n",
    "\n"
   ]
  },
  {
   "cell_type": "code",
   "execution_count": 1,
   "id": "19750360-6761-4a33-89bf-64ed6fb32cdf",
   "metadata": {},
   "outputs": [
    {
     "name": "stdin",
     "output_type": "stream",
     "text": [
      "Enter a String : Nitish\n"
     ]
    },
    {
     "data": {
      "text/plain": [
       "'nitish'"
      ]
     },
     "execution_count": 1,
     "metadata": {},
     "output_type": "execute_result"
    }
   ],
   "source": [
    "#\b\u0012 Write a code to convert a given string to uppercase or lowercase\u0012\n",
    "\n",
    "s = input(\"Enter a String :\")\n",
    "s.upper()\n",
    "s.lower()"
   ]
  },
  {
   "cell_type": "code",
   "execution_count": 3,
   "id": "e99bfc5f-c85a-4e34-ab55-668231a3f4b6",
   "metadata": {},
   "outputs": [
    {
     "name": "stdin",
     "output_type": "stream",
     "text": [
      "Enter the string: I am a student\n"
     ]
    },
    {
     "data": {
      "text/plain": [
       "4"
      ]
     },
     "execution_count": 3,
     "metadata": {},
     "output_type": "execute_result"
    }
   ],
   "source": [
    "#\u0007\u0012 Write a code to count the number of words in a string\u0012\n",
    "s = input(\"Enter the string:\")\n",
    "lis = s.split(' ')\n",
    "len(lis)"
   ]
  },
  {
   "cell_type": "code",
   "execution_count": 6,
   "id": "fd916198-b7db-4daf-a3a9-9bf6bd9297c1",
   "metadata": {},
   "outputs": [
    {
     "name": "stdin",
     "output_type": "stream",
     "text": [
      "Enter String1 Hello \n",
      "Enter String2 World\n"
     ]
    },
    {
     "name": "stdout",
     "output_type": "stream",
     "text": [
      "Concatenated string: Hello World\n"
     ]
    }
   ],
   "source": [
    "#Write a code to concatenate two strings without using the + operator\u0012\n",
    "def concatenate_strings(s1, s2):\n",
    "    return ''.join([s1, s2])\n",
    "\n",
    "# Example usage\n",
    "string1 = input(\"Enter String1:\")\n",
    "string2 = input(\"Enter String2:\")\n",
    "result = concatenate_strings(string1, string2)\n",
    "print(\"Concatenated string:\", result)\n"
   ]
  },
  {
   "cell_type": "code",
   "execution_count": 53,
   "id": "41dc123f-943f-4da8-b4da-7142e07d9571",
   "metadata": {},
   "outputs": [
    {
     "name": "stdin",
     "output_type": "stream",
     "text": [
      "Enter String:  Nitish\n",
      "Enter Char:  i\n"
     ]
    },
    {
     "name": "stdout",
     "output_type": "stream",
     "text": [
      "Ntsh\n"
     ]
    }
   ],
   "source": [
    "# Remove All Occurrences of a Specific Element from a List\n",
    "s1 = input(\"Enter String: \")\n",
    "s2 = input(\"Enter Char: \")\n",
    "\n",
    "if len(s2) != 1:\n",
    "    print(\"Please enter a single character.\")\n",
    "else:\n",
    "    s1 = s1.replace(s2, \"\")\n",
    "    print(s1)\n"
   ]
  },
  {
   "cell_type": "code",
   "execution_count": null,
   "id": "aa872bd8-4d70-4396-ad0c-89a9214664d0",
   "metadata": {},
   "outputs": [],
   "source": [
    "#\"\u001c",
    "\u0012 Implement a code to find the second largest number in a given list of integers\u0012\n",
    "def find_second_largest(nums):\n",
    "    if len(nums) < 2:\n",
    "        return None  # Not enough elements to find the second largest\n",
    "    \n",
    "    first = second = float('-inf')\n",
    "    \n",
    "    for num in nums:\n",
    "        if num > first:\n",
    "            second = first\n",
    "            first = num\n",
    "        elif num > second and num != first:\n",
    "            second = num\n",
    "    \n",
    "    return second if second != float('-inf') else None\n",
    "\n",
    "# Example usage\n",
    "nums = [10, 20, 4, 45, 99, 99]\n",
    "second_largest = find_second_largest(nums)\n",
    "if second_largest is not None:\n",
    "    print(\"The second largest number is:\", second_largest)\n",
    "else:\n",
    "    print(\"There is no second largest number.\")\n"
   ]
  },
  {
   "cell_type": "code",
   "execution_count": 54,
   "id": "df4fe0f2-adc7-43a0-a055-100fd9906633",
   "metadata": {},
   "outputs": [
    {
     "name": "stdout",
     "output_type": "stream",
     "text": [
      "Occurrences: {1: 1, 2: 2, 3: 3, 4: 4}\n"
     ]
    }
   ],
   "source": [
    "# Create a code to count the occurrences of each element in a list and\n",
    "# return a dictionary with elements as keys and their counts as values\u0012\n",
    "def count_occurrences(lst):\n",
    "    counts = {}\n",
    "    for element in lst:\n",
    "        if element in counts:\n",
    "            counts[element] += 1\n",
    "        else:\n",
    "            counts[element] = 1\n",
    "    return counts\n",
    "\n",
    "# Example usage\n",
    "lst = [1, 2, 2, 3, 3, 3, 4, 4, 4, 4]\n",
    "occurrences = count_occurrences(lst)\n",
    "print(\"Occurrences:\", occurrences)\n"
   ]
  },
  {
   "cell_type": "code",
   "execution_count": 25,
   "id": "3f6a5089-9715-424e-92fc-7b783d6347d5",
   "metadata": {},
   "outputs": [
    {
     "data": {
      "text/plain": [
       "[5, 4, 3, 2, 1]"
      ]
     },
     "execution_count": 25,
     "metadata": {},
     "output_type": "execute_result"
    }
   ],
   "source": [
    "#Write a code to reverse a list in-place without using any built-in reverse functions\u0012\n",
    "list1=[1,2,3,4,5]\n",
    "for i in range(len(list1)//2):\n",
    "    a = list1[i]\n",
    "    temp= list1[len(list1)-i-1]\n",
    "    list1[i]=temp\n",
    "    list1[len(list1)-i-1] = a\n",
    "list1    "
   ]
  },
  {
   "cell_type": "code",
   "execution_count": 29,
   "id": "ce4df53e-3744-4b86-ab3b-6fa482d39ecf",
   "metadata": {},
   "outputs": [
    {
     "name": "stdout",
     "output_type": "stream",
     "text": [
      "{1: 2, 2: 2, 4: 2, 5: 2, 6: 1, 8: 1, 9: 1}\n"
     ]
    }
   ],
   "source": [
    "#\u0012 Implement a code to find and remove duplicates from a list while preserving the original order of \n",
    "# elements\u0012\n",
    "list1=[1,2,2,4,5,6,4,8, 9, 1 ,5]\n",
    "diction={}\n",
    "for i in range(len(list1)):\n",
    "   # j=list1[i]\n",
    "    count = 0\n",
    "    k=i\n",
    "    for k in range(len(list1)):\n",
    "        if(list1[i] == list1[k]):\n",
    "            count=count + 1 \n",
    "    diction[list1[i]]=count\n",
    "print(diction)       "
   ]
  },
  {
   "cell_type": "code",
   "execution_count": 39,
   "id": "afd241b1-0c63-44d2-9d73-83132597a114",
   "metadata": {},
   "outputs": [
    {
     "name": "stdout",
     "output_type": "stream",
     "text": [
      "True\n"
     ]
    }
   ],
   "source": [
    "#\"$\u0012 Create a code to check if a given list is sorted (either in ascending or descending order) or not\u0012\n",
    "list1 = [1,2,3,4,5,6,7,8,9]\n",
    "list2= [2,1,2,5,1,3,45,6]\n",
    "bool_ascending = True \n",
    "bool_descending = True\n",
    "\n",
    "for i in range(1, len(list1)):\n",
    "    if list1[i] < list1[i - 1]:\n",
    "        bool_ascending = False\n",
    "    if list1[i] > list1[i - 1]:\n",
    "        bool_descending = False\n",
    "\n",
    "print(bool_ascending or bool_descending)\n",
    "    \n"
   ]
  },
  {
   "cell_type": "code",
   "execution_count": 42,
   "id": "669755c2-44c6-4ccf-b346-4d4fe43fca27",
   "metadata": {},
   "outputs": [
    {
     "name": "stdout",
     "output_type": "stream",
     "text": [
      "Merged list: [1, 2, 3, 4, 5, 6, 7, 8, 9, 10]\n"
     ]
    }
   ],
   "source": [
    "#\"&\u0012 Write a code to merge two sorted lists into a single sorted list\u0012\n",
    "list1 = [1, 2, 3, 8, 9, 10]\n",
    "list2 = [4, 5, 6, 7]\n",
    "list3 = []\n",
    "k = 0\n",
    "j = 0\n",
    "\n",
    "while k < len(list1) and j < len(list2):\n",
    "    if list1[k] < list2[j]:\n",
    "        list3.append(list1[k])\n",
    "        k += 1\n",
    "    else:\n",
    "        list3.append(list2[j])\n",
    "        j += 1\n",
    "\n",
    "# Append remaining elements from list1\n",
    "while k < len(list1):\n",
    "    list3.append(list1[k])\n",
    "    k += 1\n",
    "\n",
    "# Append remaining elements from list2\n",
    "while j < len(list2):\n",
    "    list3.append(list2[j])\n",
    "    j += 1\n",
    "\n",
    "print(\"Merged list:\", list3)\n",
    "\n",
    "\n"
   ]
  },
  {
   "cell_type": "code",
   "execution_count": 46,
   "id": "349b09cc-69c0-4f37-bb06-b437ae4fea06",
   "metadata": {},
   "outputs": [
    {
     "name": "stdout",
     "output_type": "stream",
     "text": [
      "Intersection: [4, 5]\n"
     ]
    }
   ],
   "source": [
    "#Implement a code to find the intersection of two given lists\n",
    "def find_intersection(list1, list2):\n",
    "    # Convert lists to sets\n",
    "    set1 = set(list1)\n",
    "    set2 = set(list2)\n",
    "    \n",
    "    # Find intersection\n",
    "    intersection = set1.intersection(set2)\n",
    "    \n",
    "    # Convert back to list (if needed)\n",
    "    return list(intersection)\n",
    "\n",
    "# Example usage\n",
    "list1 = [1, 2, 3, 4, 5]\n",
    "list2 = [4, 5, 6, 7, 8]\n",
    "intersection = find_intersection(list1, list2)\n",
    "print(\"Intersection:\", intersection)\n"
   ]
  },
  {
   "cell_type": "code",
   "execution_count": 48,
   "id": "bd37608d-96a2-47e1-b2f4-7ab2952625f8",
   "metadata": {},
   "outputs": [
    {
     "data": {
      "text/plain": [
       "{1, 2, 3, 3.133, 4, 6, 21, 22, 32}"
      ]
     },
     "execution_count": 48,
     "metadata": {},
     "output_type": "execute_result"
    }
   ],
   "source": [
    "#Create a code to find the union of two lists without duplicates\u0012\n",
    "list1= [1,22,3,4,21,3.133,32]\n",
    "list2=[2,6,3,4,1,6,3]\n",
    "set1= set(list1)\n",
    "set2= set(list2)\n",
    "set3 = set1.union(set2)\n",
    "set3"
   ]
  },
  {
   "cell_type": "code",
   "execution_count": 52,
   "id": "47ccdd26-4a85-4cbb-a9b7-257c52bd4a3e",
   "metadata": {},
   "outputs": [
    {
     "name": "stdout",
     "output_type": "stream",
     "text": [
      "Shuffled list: [2, 6, 9, 8, 1, 4, 5, 3, 7, 10]\n"
     ]
    }
   ],
   "source": [
    "# Write a code to shuffle a given list randomly without using any built-in shuffle functions\n",
    "import random\n",
    "\n",
    "def shuffle_list(lst):\n",
    "    n = len(lst)\n",
    "    for i in range(n - 1, 0, -1):\n",
    "        j = random.randint(0, i)\n",
    "        lst[i], lst[j] = lst[j], lst[i]\n",
    "\n",
    "# Example usage\n",
    "list1 = [1, 2, 3, 4, 5, 6, 7, 8, 9, 10]\n",
    "shuffle_list(list1)\n",
    "print(\"Shuffled list:\", list1)\n"
   ]
  },
  {
   "cell_type": "code",
   "execution_count": null,
   "id": "c15955c6-4619-42df-8e8c-b83f4f12fa4f",
   "metadata": {},
   "outputs": [],
   "source": []
  },
  {
   "cell_type": "code",
   "execution_count": null,
   "id": "26a25c55-e7a0-45c7-91c0-770e3d767981",
   "metadata": {},
   "outputs": [],
   "source": []
  },
  {
   "cell_type": "code",
   "execution_count": null,
   "id": "cbfb4984-200a-42d0-b2c4-01a4578a9e1f",
   "metadata": {},
   "outputs": [],
   "source": []
  },
  {
   "cell_type": "code",
   "execution_count": null,
   "id": "9b20a071-10c3-429b-93f4-58396a9f2367",
   "metadata": {},
   "outputs": [],
   "source": []
  },
  {
   "cell_type": "code",
   "execution_count": null,
   "id": "a1580cf2-b058-4592-8a9f-0682e3da8c06",
   "metadata": {},
   "outputs": [],
   "source": []
  },
  {
   "cell_type": "code",
   "execution_count": null,
   "id": "d8920130-5778-4814-9f03-53861d88cd60",
   "metadata": {},
   "outputs": [],
   "source": []
  },
  {
   "cell_type": "code",
   "execution_count": null,
   "id": "b26c2ca1-c67a-42d5-af0f-e50bfcceb0af",
   "metadata": {},
   "outputs": [],
   "source": []
  },
  {
   "cell_type": "code",
   "execution_count": null,
   "id": "c8a3e039-9110-4d01-b051-10157fc14b8d",
   "metadata": {},
   "outputs": [],
   "source": []
  },
  {
   "cell_type": "code",
   "execution_count": null,
   "id": "16acd720-7664-4526-93b7-c24ae7211ccd",
   "metadata": {},
   "outputs": [],
   "source": []
  },
  {
   "cell_type": "code",
   "execution_count": null,
   "id": "f4aa062e-f613-45b8-b591-b0e3e36f72b6",
   "metadata": {},
   "outputs": [],
   "source": []
  },
  {
   "cell_type": "code",
   "execution_count": null,
   "id": "489cef64-2be3-4179-8a9a-10687a3be267",
   "metadata": {},
   "outputs": [],
   "source": []
  },
  {
   "cell_type": "code",
   "execution_count": null,
   "id": "dba0a698-182b-4632-a9d4-7aff16a61c45",
   "metadata": {},
   "outputs": [],
   "source": []
  }
 ],
 "metadata": {
  "kernelspec": {
   "display_name": "Python 3 (ipykernel)",
   "language": "python",
   "name": "python3"
  },
  "language_info": {
   "codemirror_mode": {
    "name": "ipython",
    "version": 3
   },
   "file_extension": ".py",
   "mimetype": "text/x-python",
   "name": "python",
   "nbconvert_exporter": "python",
   "pygments_lexer": "ipython3",
   "version": "3.12.4"
  }
 },
 "nbformat": 4,
 "nbformat_minor": 5
}
